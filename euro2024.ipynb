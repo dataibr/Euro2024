{
 "cells": [
  {
   "cell_type": "code",
   "execution_count": 1,
   "id": "b965e892",
   "metadata": {},
   "outputs": [],
   "source": [
    "import pandas as pd\n",
    "import numpy as np\n",
    "import matplotlib.pyplot as plt\n",
    "import seaborn as sns\n"
   ]
  },
  {
   "cell_type": "code",
   "execution_count": 2,
   "id": "da630082",
   "metadata": {},
   "outputs": [
    {
     "data": {
      "text/html": [
       "<div>\n",
       "<style scoped>\n",
       "    .dataframe tbody tr th:only-of-type {\n",
       "        vertical-align: middle;\n",
       "    }\n",
       "\n",
       "    .dataframe tbody tr th {\n",
       "        vertical-align: top;\n",
       "    }\n",
       "\n",
       "    .dataframe thead th {\n",
       "        text-align: right;\n",
       "    }\n",
       "</style>\n",
       "<table border=\"1\" class=\"dataframe\">\n",
       "  <thead>\n",
       "    <tr style=\"text-align: right;\">\n",
       "      <th></th>\n",
       "      <th>Name</th>\n",
       "      <th>Position</th>\n",
       "      <th>Age</th>\n",
       "      <th>Club</th>\n",
       "      <th>Height</th>\n",
       "      <th>Foot</th>\n",
       "      <th>Caps</th>\n",
       "      <th>Goals</th>\n",
       "      <th>MarketValue</th>\n",
       "      <th>Country</th>\n",
       "    </tr>\n",
       "  </thead>\n",
       "  <tbody>\n",
       "    <tr>\n",
       "      <th>0</th>\n",
       "      <td>Marc-André ter Stegen</td>\n",
       "      <td>Goalkeeper</td>\n",
       "      <td>32</td>\n",
       "      <td>FC Barcelona</td>\n",
       "      <td>187</td>\n",
       "      <td>right</td>\n",
       "      <td>40</td>\n",
       "      <td>0</td>\n",
       "      <td>28000000</td>\n",
       "      <td>Germany</td>\n",
       "    </tr>\n",
       "    <tr>\n",
       "      <th>1</th>\n",
       "      <td>Manuel Neuer</td>\n",
       "      <td>Goalkeeper</td>\n",
       "      <td>38</td>\n",
       "      <td>Bayern Munich</td>\n",
       "      <td>193</td>\n",
       "      <td>right</td>\n",
       "      <td>119</td>\n",
       "      <td>0</td>\n",
       "      <td>4000000</td>\n",
       "      <td>Germany</td>\n",
       "    </tr>\n",
       "    <tr>\n",
       "      <th>2</th>\n",
       "      <td>Oliver Baumann</td>\n",
       "      <td>Goalkeeper</td>\n",
       "      <td>34</td>\n",
       "      <td>TSG 1899 Hoffenheim</td>\n",
       "      <td>187</td>\n",
       "      <td>right</td>\n",
       "      <td>0</td>\n",
       "      <td>0</td>\n",
       "      <td>3000000</td>\n",
       "      <td>Germany</td>\n",
       "    </tr>\n",
       "    <tr>\n",
       "      <th>3</th>\n",
       "      <td>Nico Schlotterbeck</td>\n",
       "      <td>Centre-Back</td>\n",
       "      <td>24</td>\n",
       "      <td>Borussia Dortmund</td>\n",
       "      <td>191</td>\n",
       "      <td>left</td>\n",
       "      <td>12</td>\n",
       "      <td>0</td>\n",
       "      <td>40000000</td>\n",
       "      <td>Germany</td>\n",
       "    </tr>\n",
       "    <tr>\n",
       "      <th>4</th>\n",
       "      <td>Jonathan Tah</td>\n",
       "      <td>Centre-Back</td>\n",
       "      <td>28</td>\n",
       "      <td>Bayer 04 Leverkusen</td>\n",
       "      <td>195</td>\n",
       "      <td>right</td>\n",
       "      <td>25</td>\n",
       "      <td>0</td>\n",
       "      <td>30000000</td>\n",
       "      <td>Germany</td>\n",
       "    </tr>\n",
       "  </tbody>\n",
       "</table>\n",
       "</div>"
      ],
      "text/plain": [
       "                    Name     Position  Age                 Club  Height  \\\n",
       "0  Marc-André ter Stegen   Goalkeeper   32         FC Barcelona     187   \n",
       "1           Manuel Neuer   Goalkeeper   38        Bayern Munich     193   \n",
       "2         Oliver Baumann   Goalkeeper   34  TSG 1899 Hoffenheim     187   \n",
       "3     Nico Schlotterbeck  Centre-Back   24    Borussia Dortmund     191   \n",
       "4           Jonathan Tah  Centre-Back   28  Bayer 04 Leverkusen     195   \n",
       "\n",
       "    Foot  Caps  Goals  MarketValue  Country  \n",
       "0  right    40      0     28000000  Germany  \n",
       "1  right   119      0      4000000  Germany  \n",
       "2  right     0      0      3000000  Germany  \n",
       "3   left    12      0     40000000  Germany  \n",
       "4  right    25      0     30000000  Germany  "
      ]
     },
     "execution_count": 2,
     "metadata": {},
     "output_type": "execute_result"
    }
   ],
   "source": [
    "df = pd.read_csv('euro2024.csv')\n",
    "df.head(5)"
   ]
  },
  {
   "cell_type": "code",
   "execution_count": 3,
   "id": "dfacfd00",
   "metadata": {},
   "outputs": [
    {
     "name": "stdout",
     "output_type": "stream",
     "text": [
      "<class 'pandas.core.frame.DataFrame'>\n",
      "RangeIndex: 623 entries, 0 to 622\n",
      "Data columns (total 10 columns):\n",
      " #   Column       Non-Null Count  Dtype \n",
      "---  ------       --------------  ----- \n",
      " 0   Name         623 non-null    object\n",
      " 1   Position     623 non-null    object\n",
      " 2   Age          623 non-null    int64 \n",
      " 3   Club         623 non-null    object\n",
      " 4   Height       623 non-null    int64 \n",
      " 5   Foot         620 non-null    object\n",
      " 6   Caps         623 non-null    int64 \n",
      " 7   Goals        623 non-null    int64 \n",
      " 8   MarketValue  623 non-null    int64 \n",
      " 9   Country      623 non-null    object\n",
      "dtypes: int64(5), object(5)\n",
      "memory usage: 48.8+ KB\n"
     ]
    }
   ],
   "source": [
    "# analisar o tipo de dados da tabela\n",
    "df.info()"
   ]
  },
  {
   "cell_type": "code",
   "execution_count": 4,
   "id": "64f24dc3",
   "metadata": {},
   "outputs": [
    {
     "data": {
      "text/html": [
       "<div>\n",
       "<style scoped>\n",
       "    .dataframe tbody tr th:only-of-type {\n",
       "        vertical-align: middle;\n",
       "    }\n",
       "\n",
       "    .dataframe tbody tr th {\n",
       "        vertical-align: top;\n",
       "    }\n",
       "\n",
       "    .dataframe thead th {\n",
       "        text-align: right;\n",
       "    }\n",
       "</style>\n",
       "<table border=\"1\" class=\"dataframe\">\n",
       "  <thead>\n",
       "    <tr style=\"text-align: right;\">\n",
       "      <th></th>\n",
       "      <th>Nome</th>\n",
       "      <th>Posição</th>\n",
       "      <th>Idade</th>\n",
       "      <th>Clube</th>\n",
       "      <th>Altura</th>\n",
       "      <th>Chute</th>\n",
       "      <th>Atuações</th>\n",
       "      <th>Gols</th>\n",
       "      <th>Valor de Mercado</th>\n",
       "      <th>País</th>\n",
       "    </tr>\n",
       "  </thead>\n",
       "  <tbody>\n",
       "    <tr>\n",
       "      <th>0</th>\n",
       "      <td>Marc-André ter Stegen</td>\n",
       "      <td>Goalkeeper</td>\n",
       "      <td>32</td>\n",
       "      <td>FC Barcelona</td>\n",
       "      <td>187</td>\n",
       "      <td>right</td>\n",
       "      <td>40</td>\n",
       "      <td>0</td>\n",
       "      <td>28000000</td>\n",
       "      <td>Germany</td>\n",
       "    </tr>\n",
       "    <tr>\n",
       "      <th>1</th>\n",
       "      <td>Manuel Neuer</td>\n",
       "      <td>Goalkeeper</td>\n",
       "      <td>38</td>\n",
       "      <td>Bayern Munich</td>\n",
       "      <td>193</td>\n",
       "      <td>right</td>\n",
       "      <td>119</td>\n",
       "      <td>0</td>\n",
       "      <td>4000000</td>\n",
       "      <td>Germany</td>\n",
       "    </tr>\n",
       "    <tr>\n",
       "      <th>2</th>\n",
       "      <td>Oliver Baumann</td>\n",
       "      <td>Goalkeeper</td>\n",
       "      <td>34</td>\n",
       "      <td>TSG 1899 Hoffenheim</td>\n",
       "      <td>187</td>\n",
       "      <td>right</td>\n",
       "      <td>0</td>\n",
       "      <td>0</td>\n",
       "      <td>3000000</td>\n",
       "      <td>Germany</td>\n",
       "    </tr>\n",
       "    <tr>\n",
       "      <th>3</th>\n",
       "      <td>Nico Schlotterbeck</td>\n",
       "      <td>Centre-Back</td>\n",
       "      <td>24</td>\n",
       "      <td>Borussia Dortmund</td>\n",
       "      <td>191</td>\n",
       "      <td>left</td>\n",
       "      <td>12</td>\n",
       "      <td>0</td>\n",
       "      <td>40000000</td>\n",
       "      <td>Germany</td>\n",
       "    </tr>\n",
       "    <tr>\n",
       "      <th>4</th>\n",
       "      <td>Jonathan Tah</td>\n",
       "      <td>Centre-Back</td>\n",
       "      <td>28</td>\n",
       "      <td>Bayer 04 Leverkusen</td>\n",
       "      <td>195</td>\n",
       "      <td>right</td>\n",
       "      <td>25</td>\n",
       "      <td>0</td>\n",
       "      <td>30000000</td>\n",
       "      <td>Germany</td>\n",
       "    </tr>\n",
       "  </tbody>\n",
       "</table>\n",
       "</div>"
      ],
      "text/plain": [
       "                    Nome      Posição  Idade                Clube  Altura  \\\n",
       "0  Marc-André ter Stegen   Goalkeeper     32         FC Barcelona     187   \n",
       "1           Manuel Neuer   Goalkeeper     38        Bayern Munich     193   \n",
       "2         Oliver Baumann   Goalkeeper     34  TSG 1899 Hoffenheim     187   \n",
       "3     Nico Schlotterbeck  Centre-Back     24    Borussia Dortmund     191   \n",
       "4           Jonathan Tah  Centre-Back     28  Bayer 04 Leverkusen     195   \n",
       "\n",
       "   Chute  Atuações  Gols  Valor de Mercado     País  \n",
       "0  right        40     0          28000000  Germany  \n",
       "1  right       119     0           4000000  Germany  \n",
       "2  right         0     0           3000000  Germany  \n",
       "3   left        12     0          40000000  Germany  \n",
       "4  right        25     0          30000000  Germany  "
      ]
     },
     "execution_count": 4,
     "metadata": {},
     "output_type": "execute_result"
    }
   ],
   "source": [
    "# renomear colunas \n",
    "\n",
    "df.rename(columns={\n",
    "    \"Name\":\"Nome\",\n",
    "    \"Position\":\"Posição\",\n",
    "    \"Age\":\"Idade\",\n",
    "    \"Club\":\"Clube\",\n",
    "    \"Height\":\"Altura\",\n",
    "    \"Foot\":\"Chute\",\n",
    "    \"Caps\":\"Atuações\",\n",
    "    \"Goals\":\"Gols\",    \n",
    "    \"MarketValue\":\"Valor de Mercado\",\n",
    "    \"Country\":\"País\"\n",
    "}, inplace=True)\n",
    "df.head()"
   ]
  },
  {
   "cell_type": "code",
   "execution_count": 5,
   "id": "5d81a9b6",
   "metadata": {},
   "outputs": [
    {
     "data": {
      "text/plain": [
       "Nome                0\n",
       "Posição             0\n",
       "Idade               0\n",
       "Clube               0\n",
       "Altura              0\n",
       "Chute               3\n",
       "Atuações            0\n",
       "Gols                0\n",
       "Valor de Mercado    0\n",
       "País                0\n",
       "dtype: int64"
      ]
     },
     "execution_count": 5,
     "metadata": {},
     "output_type": "execute_result"
    }
   ],
   "source": [
    "# verificar valores nulos\n",
    "df.isnull().sum()"
   ]
  },
  {
   "cell_type": "code",
   "execution_count": 6,
   "id": "ce832e2d",
   "metadata": {},
   "outputs": [
    {
     "name": "stdout",
     "output_type": "stream",
     "text": [
      "right    436\n",
      "left     150\n",
      "both      31\n",
      "-          3\n",
      "Name: Chute, dtype: int64\n"
     ]
    },
    {
     "data": {
      "text/plain": [
       "Nome                0\n",
       "Posição             0\n",
       "Idade               0\n",
       "Clube               0\n",
       "Altura              0\n",
       "Chute               0\n",
       "Atuações            0\n",
       "Gols                0\n",
       "Valor de Mercado    0\n",
       "País                0\n",
       "dtype: int64"
      ]
     },
     "execution_count": 6,
     "metadata": {},
     "output_type": "execute_result"
    }
   ],
   "source": [
    "# identificar o valor mais frequente, para preencher os nulos\n",
    "print(df.Chute.value_counts())\n",
    "chutes = df.Chute.value_counts()[0]\n",
    "\n",
    "#preencher valores vazios\n",
    "df.Chute.fillna(chutes, inplace=True)\n",
    "\n",
    "#depois verificar se ainda existe valores nulos\n",
    "df.isnull().sum()"
   ]
  },
  {
   "cell_type": "code",
   "execution_count": 7,
   "id": "36996fb5",
   "metadata": {},
   "outputs": [
    {
     "data": {
      "text/html": [
       "<div>\n",
       "<style scoped>\n",
       "    .dataframe tbody tr th:only-of-type {\n",
       "        vertical-align: middle;\n",
       "    }\n",
       "\n",
       "    .dataframe tbody tr th {\n",
       "        vertical-align: top;\n",
       "    }\n",
       "\n",
       "    .dataframe thead th {\n",
       "        text-align: right;\n",
       "    }\n",
       "</style>\n",
       "<table border=\"1\" class=\"dataframe\">\n",
       "  <thead>\n",
       "    <tr style=\"text-align: right;\">\n",
       "      <th></th>\n",
       "      <th>Idade</th>\n",
       "      <th>Altura</th>\n",
       "      <th>Atuações</th>\n",
       "      <th>Gols</th>\n",
       "      <th>Valor de Mercado</th>\n",
       "    </tr>\n",
       "  </thead>\n",
       "  <tbody>\n",
       "    <tr>\n",
       "      <th>count</th>\n",
       "      <td>623.000000</td>\n",
       "      <td>623.000000</td>\n",
       "      <td>623.000000</td>\n",
       "      <td>623.000000</td>\n",
       "      <td>6.230000e+02</td>\n",
       "    </tr>\n",
       "    <tr>\n",
       "      <th>mean</th>\n",
       "      <td>27.040128</td>\n",
       "      <td>184.181380</td>\n",
       "      <td>30.338684</td>\n",
       "      <td>4.152488</td>\n",
       "      <td>1.840903e+07</td>\n",
       "    </tr>\n",
       "    <tr>\n",
       "      <th>std</th>\n",
       "      <td>4.124275</td>\n",
       "      <td>6.569258</td>\n",
       "      <td>30.987902</td>\n",
       "      <td>10.086803</td>\n",
       "      <td>2.426195e+07</td>\n",
       "    </tr>\n",
       "    <tr>\n",
       "      <th>min</th>\n",
       "      <td>16.000000</td>\n",
       "      <td>167.000000</td>\n",
       "      <td>0.000000</td>\n",
       "      <td>0.000000</td>\n",
       "      <td>5.000000e+04</td>\n",
       "    </tr>\n",
       "    <tr>\n",
       "      <th>25%</th>\n",
       "      <td>24.000000</td>\n",
       "      <td>180.000000</td>\n",
       "      <td>7.000000</td>\n",
       "      <td>0.000000</td>\n",
       "      <td>2.900000e+06</td>\n",
       "    </tr>\n",
       "    <tr>\n",
       "      <th>50%</th>\n",
       "      <td>27.000000</td>\n",
       "      <td>185.000000</td>\n",
       "      <td>21.000000</td>\n",
       "      <td>1.000000</td>\n",
       "      <td>9.000000e+06</td>\n",
       "    </tr>\n",
       "    <tr>\n",
       "      <th>75%</th>\n",
       "      <td>30.000000</td>\n",
       "      <td>189.000000</td>\n",
       "      <td>42.000000</td>\n",
       "      <td>4.000000</td>\n",
       "      <td>2.500000e+07</td>\n",
       "    </tr>\n",
       "    <tr>\n",
       "      <th>max</th>\n",
       "      <td>41.000000</td>\n",
       "      <td>202.000000</td>\n",
       "      <td>206.000000</td>\n",
       "      <td>128.000000</td>\n",
       "      <td>1.800000e+08</td>\n",
       "    </tr>\n",
       "  </tbody>\n",
       "</table>\n",
       "</div>"
      ],
      "text/plain": [
       "            Idade      Altura    Atuações        Gols  Valor de Mercado\n",
       "count  623.000000  623.000000  623.000000  623.000000      6.230000e+02\n",
       "mean    27.040128  184.181380   30.338684    4.152488      1.840903e+07\n",
       "std      4.124275    6.569258   30.987902   10.086803      2.426195e+07\n",
       "min     16.000000  167.000000    0.000000    0.000000      5.000000e+04\n",
       "25%     24.000000  180.000000    7.000000    0.000000      2.900000e+06\n",
       "50%     27.000000  185.000000   21.000000    1.000000      9.000000e+06\n",
       "75%     30.000000  189.000000   42.000000    4.000000      2.500000e+07\n",
       "max     41.000000  202.000000  206.000000  128.000000      1.800000e+08"
      ]
     },
     "execution_count": 7,
     "metadata": {},
     "output_type": "execute_result"
    }
   ],
   "source": [
    "df.describe()"
   ]
  },
  {
   "cell_type": "code",
   "execution_count": 8,
   "id": "35acaf25",
   "metadata": {},
   "outputs": [
    {
     "data": {
      "image/png": "[encoded data removed]",
      "text/plain": [
       "<Figure size 1080x720 with 1 Axes>"
      ]
     },
     "metadata": {
      "needs_background": "light"
     },
     "output_type": "display_data"
    }
   ],
   "source": [
    "# Verificar a média de idade dos jogadores na Euro\n",
    "\n",
    "plt.figure(figsize=(15,10))\n",
    "plt.title('Média de idade na Euro')\n",
    "\n",
    "sns.boxplot(data=df, x='Idade', y='País');"
   ]
  },
  {
   "cell_type": "code",
   "execution_count": 9,
   "id": "61eba849",
   "metadata": {},
   "outputs": [
    {
     "data": {
      "text/plain": [
       "0    Alemanha\n",
       "1    Alemanha\n",
       "2    Alemanha\n",
       "3    Alemanha\n",
       "4    Alemanha\n",
       "Name: País, dtype: object"
      ]
     },
     "execution_count": 9,
     "metadata": {},
     "output_type": "execute_result"
    }
   ],
   "source": [
    "# renomear os paises\n",
    "\n",
    "países ={\n",
    "    \"Germany\":\"Alemanha\",\n",
    "    \"Scotland\":\"Escócia\",\n",
    "    \"Hungary\":\"Hungria\",\n",
    "    \"Switzerland\":\"Suíça\",\n",
    "    \"Spain\":\"Espanha\",\n",
    "    \"Croatia\":\"Croácia\",\n",
    "    \"Albania\":\"Albânia\",\n",
    "    \"Italy\":\"Itália\",\n",
    "    \"Slovenia\":\"Eslovênia\",\n",
    "    \"England\":\"Inglaterra\",\n",
    "    \"Denmark\":\"Dinamarca\",\n",
    "    \"Serbia\":\"Sérvia\",\n",
    "    \"Poland\":\"Polônia\",\n",
    "    \"Netherlands\":\"Holanda\",\n",
    "    \"Austria\":\"Áustria\",\n",
    "    \"France\":\"França\",\n",
    "    \"Belgium\":\"Bélgica\",\n",
    "    \"Slovakia\":\"Eslováquia\",\n",
    "    \"Romania\":\"Romênia\",\n",
    "    \"Ulkraine\":\"Ucrânia\",\n",
    "    \"Turkiye\":\"Turquia\",\n",
    "    \"Georgia\":\"Geórgia\",\n",
    "    \"Portugal\":\"Portugal\",\n",
    "    \"Czech Republic\":\"Republica Tcheca\"\n",
    "}\n",
    "\n",
    "df['País'].map(países).head()"
   ]
  },
  {
   "cell_type": "code",
   "execution_count": 10,
   "id": "ebedeb45",
   "metadata": {},
   "outputs": [
    {
     "data": {
      "text/plain": [
       "0             Germany\n",
       "26           Scotland\n",
       "52            Hungary\n",
       "78        Switzerland\n",
       "104             Spain\n",
       "130           Croatia\n",
       "156           Albania\n",
       "182             Italy\n",
       "208          Slovenia\n",
       "234           England\n",
       "260           Denmark\n",
       "286            Serbia\n",
       "312            Poland\n",
       "339       Netherlands\n",
       "365           Austria\n",
       "391            France\n",
       "416           Belgium\n",
       "441          Slovakia\n",
       "467           Romania\n",
       "493           Ukraine\n",
       "519           Turkiye\n",
       "545           Georgia\n",
       "571          Portugal\n",
       "597    Czech Republic\n",
       "Name: País, dtype: object"
      ]
     },
     "execution_count": 10,
     "metadata": {},
     "output_type": "execute_result"
    }
   ],
   "source": [
    "#Mostrar a lista de países removendo os duplicados.\n",
    "df['País'].drop_duplicates()"
   ]
  },
  {
   "cell_type": "code",
   "execution_count": 19,
   "id": "37c46afe",
   "metadata": {},
   "outputs": [
    {
     "data": {
      "image/png": "[encoded data removed]",
      "text/plain": [
       "<Figure size 1728x504 with 1 Axes>"
      ]
     },
     "metadata": {},
     "output_type": "display_data"
    }
   ],
   "source": [
    "plt.figure(figsize=(24,7))\n",
    "plt.title(\"País x Idade\")\n",
    "plt.style.use('ggplot')\n",
    "\n",
    "sns.barplot(data=df, x='País', y='Idade');"
   ]
  },
  {
   "cell_type": "code",
   "execution_count": null,
   "id": "0d4cbbbc",
   "metadata": {},
   "outputs": [],
   "source": []
  }
 ],
 "metadata": {
  "kernelspec": {
   "display_name": "Python 3",
   "language": "python",
   "name": "python3"
  },
  "language_info": {
   "codemirror_mode": {
    "name": "ipython",
    "version": 3
   },
   "file_extension": ".py",
   "mimetype": "text/x-python",
   "name": "python",
   "nbconvert_exporter": "python",
   "pygments_lexer": "ipython3",
   "version": "3.8.8"
  }
 },
 "nbformat": 4,
 "nbformat_minor": 5
}
